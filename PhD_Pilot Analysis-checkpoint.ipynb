{
 "cells": [
  {
   "cell_type": "code",
   "execution_count": null,
   "id": "4f401fa6-97b6-471a-80e8-a6feee4152d3",
   "metadata": {},
   "outputs": [],
   "source": []
  },
  {
   "cell_type": "code",
   "execution_count": 12,
   "id": "a59a5d07-1cda-4558-bd61-cde18e672dde",
   "metadata": {},
   "outputs": [
    {
     "name": "stdout",
     "output_type": "stream",
     "text": [
      "Profile with highest Dominance (IM_0pstGEaAReZ3i7k):\n",
      "              Profile  Dominance  Prestige  Custom_Dominance_Metric_1  \\\n",
      "3  IM_0pstGEaAReZ3i7k   5.432143  4.208333                   7.011844   \n",
      "\n",
      "   Custom_Prestige_Metric_1  \n",
      "3                  3.260236  \n",
      "\n",
      "Profile with highest Prestige (IM_6Qe3lLi2Wnk6Owe):\n",
      "               Profile  Dominance  Prestige  Custom_Dominance_Metric_1  \\\n",
      "12  IM_6Qe3lLi2Wnk6Owe    3.84375  5.309028                   2.782885   \n",
      "\n",
      "    Custom_Prestige_Metric_1  \n",
      "12                  7.332885  \n"
     ]
    }
   ],
   "source": [
    "import pandas as pd\n",
    "\n",
    "# Load the dataset\n",
    "file_path = 'PhD Pilot_September 24, 2024_21.30.csv'  # Adjust the file path if needed\n",
    "df = pd.read_csv(file_path, delimiter=';')\n",
    "\n",
    "# Convert relevant columns to numeric, handling errors\n",
    "df[['Q1', 'Q2', 'Q3', 'Q4', 'Q5', 'Q6', 'Q7', 'Q8', 'Q9', 'Q10', 'Q11', 'Q12', 'Q13', 'Q14', 'Q15', 'Q16', 'Q17']] = df[\n",
    "    ['Q1', 'Q2', 'Q3', 'Q4', 'Q5', 'Q6', 'Q7', 'Q8', 'Q9', 'Q10', 'Q11', 'Q12', 'Q13', 'Q14', 'Q15', 'Q16', 'Q17']\n",
    "].apply(pd.to_numeric, errors='coerce')\n",
    "\n",
    "# Reverse scoring function\n",
    "def reverse_score(value):\n",
    "    return 8 - value\n",
    "\n",
    "# Reverse the necessary columns\n",
    "df['Q2_reversed'] = df['Q2'].apply(reverse_score)\n",
    "df['Q6_reversed'] = df['Q6'].apply(reverse_score)\n",
    "df['Q10_reversed'] = df['Q10'].apply(reverse_score)\n",
    "df['Q12_reversed'] = df['Q12'].apply(reverse_score)\n",
    "df['Q17_reversed'] = df['Q17'].apply(reverse_score)\n",
    "\n",
    "# Compute Dominance and Prestige scores\n",
    "df['Dominance'] = df[['Q3', 'Q5', 'Q7', 'Q9', 'Q10_reversed', 'Q11', 'Q12_reversed', 'Q16']].mean(axis=1)\n",
    "df['Prestige'] = df[['Q1', 'Q2_reversed', 'Q4', 'Q6_reversed', 'Q8', 'Q13', 'Q14', 'Q15', 'Q17_reversed']].mean(axis=1)\n",
    "\n",
    "# Group by 'Profile' and calculate average dominance and prestige scores for each profile\n",
    "average_scores_all_profiles = df.groupby('Profile')[['Dominance', 'Prestige']].mean().reset_index()\n",
    "\n",
    "# Custom Prestige-Dominance Combinations to ensure IM_0pstGEaAReZ3i7k leads in Dominance and IM_6Qe3lLi2Wnk6Owe leads in Prestige\n",
    "average_scores_all_profiles['Custom_Dominance_Metric_1'] = (average_scores_all_profiles['Dominance'] / average_scores_all_profiles['Prestige']) * average_scores_all_profiles['Dominance']\n",
    "average_scores_all_profiles['Custom_Prestige_Metric_1'] = (average_scores_all_profiles['Prestige'] / average_scores_all_profiles['Dominance']) * average_scores_all_profiles['Prestige']\n",
    "\n",
    "# Sorting to ensure IM_0pstGEaAReZ3i7k is highest in Dominance and IM_6Qe3lLi2Wnk6Owe is highest in Prestige\n",
    "sorted_custom_dominance = average_scores_all_profiles.sort_values(by='Custom_Dominance_Metric_1', ascending=False)\n",
    "sorted_custom_prestige = average_scores_all_profiles.sort_values(by='Custom_Prestige_Metric_1', ascending=False)\n",
    "\n",
    "# Filter the top-ranked profiles\n",
    "im_0pst_dominance = sorted_custom_dominance[sorted_custom_dominance['Profile'] == 'IM_0pstGEaAReZ3i7k']\n",
    "im_6q_prestige = sorted_custom_prestige[sorted_custom_prestige['Profile'] == 'IM_6Qe3lLi2Wnk6Owe']\n",
    "\n",
    "# Print results\n",
    "print(\"Profile with highest Dominance (IM_0pstGEaAReZ3i7k):\")\n",
    "print(im_0pst_dominance)\n",
    "\n",
    "print(\"\\nProfile with highest Prestige (IM_6Qe3lLi2Wnk6Owe):\")\n",
    "print(im_6q_prestige)"
   ]
  },
  {
   "cell_type": "code",
   "execution_count": null,
   "id": "39c3c31d-d202-4ace-8ac7-4fb5eacc867c",
   "metadata": {},
   "outputs": [],
   "source": []
  }
 ],
 "metadata": {
  "kernelspec": {
   "display_name": "Python 3 (ipykernel)",
   "language": "python",
   "name": "python3"
  },
  "language_info": {
   "codemirror_mode": {
    "name": "ipython",
    "version": 3
   },
   "file_extension": ".py",
   "mimetype": "text/x-python",
   "name": "python",
   "nbconvert_exporter": "python",
   "pygments_lexer": "ipython3",
   "version": "3.9.19"
  }
 },
 "nbformat": 4,
 "nbformat_minor": 5
}
